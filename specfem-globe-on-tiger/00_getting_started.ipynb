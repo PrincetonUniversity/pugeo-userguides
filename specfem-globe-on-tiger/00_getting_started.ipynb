{
 "cells": [
  {
   "cell_type": "markdown",
   "metadata": {},
   "source": [
    "# 0: Getting Started\n",
    "\n",
    "To get started on the Tiger cluster we must first be able to access it. The two systems we will be looking at in this guide are `TigerCPU` and `TigerGPU`. The former is used for running CPU code, and the latter for GPU code.\n",
    "\n",
    "In order to access one of these systems, open up a new terminal window on your local machine and run the following `ssh` command:\n",
    "\n",
    "```bash\n",
    "ssh <your_puid>@tigercpu.princeton.edu   #Replace with tigergpu to access TigerGPU\n",
    "```\n",
    "\n",
    "If this is your first time connecting to the host, you will be given a new ssh-key for this host and asked to accept the key by typing `yes`.\n",
    "\n",
    "Then you will be prompted for your puid password, and DUO authentication. Once these steps are completed you should be logged in to TigerCPU/TigerGPU. Type `hostname` to check which system you are logged in to."
   ]
  },
  {
   "cell_type": "markdown",
   "metadata": {},
   "source": [
    "## 0.1: Filesystem\n",
    "\n",
    "Once you are logged on to one of the systems, you will land in your `$HOME` directory: `/home/<your_puid>`. There are primarily three locations where you want to work with and store your files. These are the following:\n",
    "\n",
    "* HOME: `/home/<your_puid>`\n",
    "  - Source code and executables.\n",
    "  - Backed up daily.\n",
    "  - ~20GB storage.\n",
    "\n",
    "* TIGRESS: `/tigress/<your_puid>`\n",
    "  - Source code, executables, final results.\n",
    "  - Backed up weekly.\n",
    "  - ~500GB storage.\n",
    "\n",
    "* SCRATCH: `/scratch/gpfs/<your_puid>`\n",
    "  - Intermediate results.\n",
    "  - Never backed up.\n",
    "  - ~500GB storage.\n",
    "\n",
    "More details on this can be found [here](https://researchcomputing.princeton.edu/faq/where-do-i-store-). You will most likely work with one of the above filesystems depending on the size and backup requirements for your application. In this guide we will store and compile SPECFEM3D GLOBE on `SCRATCH`.\n",
    "\n",
    "To check how much storage you have available, use the `checkquota` command on the cluster.\n",
    "\n",
    "**NOTE:** `TigerCPU` and `TigerGPU` are mounted on the same filesystems, which means that the content of the above filesystems will be the same whether you are logged in to `TigerCPU` or `TigerGPU`."
   ]
  },
  {
   "cell_type": "code",
   "execution_count": null,
   "metadata": {},
   "outputs": [],
   "source": []
  }
 ],
 "metadata": {
  "kernelspec": {
   "display_name": "Python 3",
   "language": "python",
   "name": "python3"
  },
  "language_info": {
   "codemirror_mode": {
    "name": "ipython",
    "version": 3
   },
   "file_extension": ".py",
   "mimetype": "text/x-python",
   "name": "python",
   "nbconvert_exporter": "python",
   "pygments_lexer": "ipython3",
   "version": "3.7.2"
  }
 },
 "nbformat": 4,
 "nbformat_minor": 2
}
