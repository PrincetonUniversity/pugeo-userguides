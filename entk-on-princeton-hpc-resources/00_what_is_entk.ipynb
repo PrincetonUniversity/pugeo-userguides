{
 "cells": [
  {
   "cell_type": "markdown",
   "metadata": {
    "slideshow": {
     "slide_type": "slide"
    }
   },
   "source": [
    "# Ensemble Toolkit (EnTK)"
   ]
  },
  {
   "cell_type": "markdown",
   "metadata": {
    "slideshow": {
     "slide_type": "fragment"
    }
   },
   "source": [
    "*\"A Python framework for developing and executing applications comprised of multiple sets of tasks, also known as ensembles.\"*"
   ]
  },
  {
   "cell_type": "markdown",
   "metadata": {
    "slideshow": {
     "slide_type": "subslide"
    }
   },
   "source": [
    "## Ensemble Toolkit: Overview"
   ]
  },
  {
   "cell_type": "markdown",
   "metadata": {
    "slideshow": {
     "slide_type": "fragment"
    }
   },
   "source": [
    "### What is an Ensemble?\n",
    "* A set of computational tasks that need to be executed in order to achieve a desired result.\n",
    "* The number and type of applications that can be formulated as ensembles is vast and span many scientific domains."
   ]
  },
  {
   "cell_type": "markdown",
   "metadata": {
    "slideshow": {
     "slide_type": "fragment"
    }
   },
   "source": [
    "### Challenges of Ensemble Execution on HPC Machines\n",
    "* Writing scientific problems in ways that lend themselves to distributed and coordinated solutions.\n",
    "* Sizing, acquiring, and managing resources for the execution.\n",
    "* Managing the execution of the ensemble."
   ]
  },
  {
   "cell_type": "markdown",
   "metadata": {
    "slideshow": {
     "slide_type": "fragment"
    }
   },
   "source": [
    "Traditionally difficult to run ensemble applications on HPC, having to deal with scheduler and task distribution."
   ]
  },
  {
   "cell_type": "markdown",
   "metadata": {
    "slideshow": {
     "slide_type": "subslide"
    }
   },
   "source": [
    "## Ensemble Toolkit: Overview\n",
    "\n",
    "### Existing Solutions:\n",
    "* Customized scripts: Fragile, nonportable, high user effort in task and resource management.\n",
    "* End-to-end workflows: Rigid, lengthy development/modification time."
   ]
  },
  {
   "cell_type": "markdown",
   "metadata": {
    "slideshow": {
     "slide_type": "fragment"
    }
   },
   "source": [
    "### Purpose of EnTK\n",
    "* Adresses the challenges of scale, diversity, and reliability that are associated with scientific applications.\n",
    "* Provides high-level abstractions for building ensemble-based applications.\n",
    "* Acts as middleware between the application and the computing infrastructure.\n",
    "* Takes responsibility for task, data, and resource management."
   ]
  },
  {
   "cell_type": "markdown",
   "metadata": {
    "slideshow": {
     "slide_type": "subslide"
    }
   },
   "source": [
    "## Ensemble Toolkit: Overview\n",
    "\n",
    "### EnTK Requirements\n",
    "* Support heterogeneous computing infrastructures.\n",
    "* Abstract the complexity of execution and resource management.\n",
    "* Be performance independent of the type of computing infrastructure."
   ]
  },
  {
   "cell_type": "markdown",
   "metadata": {
    "slideshow": {
     "slide_type": "fragment"
    }
   },
   "source": [
    "EnTK also has to be fault-tolerant at scale, i.e., when both the probability and cost of failure increase."
   ]
  },
  {
   "cell_type": "markdown",
   "metadata": {
    "slideshow": {
     "slide_type": "subslide"
    }
   },
   "source": [
    "## Ensemble Toolkit: Application Model\n",
    "\n",
    "Applications are contructed by combining the following user-facing components:"
   ]
  },
  {
   "cell_type": "markdown",
   "metadata": {
    "slideshow": {
     "slide_type": "fragment"
    }
   },
   "source": [
    "* **Task:** An abstraction of a computational task that contains information regarding an executable, its software environment and its data dependencies.\n",
    "* **Stage:** A set of tasks without mutual dependence that can be executed concurrently.\n",
    "* **Pipeline:** A list of stages that must be executed sequentially."
   ]
  },
  {
   "cell_type": "markdown",
   "metadata": {
    "slideshow": {
     "slide_type": "fragment"
    }
   },
   "source": [
    "An application can consist of a set of pipelines, where each pipeline is a list of stages , and each stage is is a set of tasks."
   ]
  },
  {
   "cell_type": "markdown",
   "metadata": {
    "slideshow": {
     "slide_type": "subslide"
    }
   },
   "source": [
    "## Ensemble Toolkit: Application Model\n",
    "\n",
    "<img src=\"https://raw.githubusercontent.com/radical-cybertools/radical.entk/master/docs/figures/pst-model.jpg\" alt=\"pst-model\" width=\"500\"/>"
   ]
  },
  {
   "cell_type": "markdown",
   "metadata": {
    "slideshow": {
     "slide_type": "subslide"
    }
   },
   "source": [
    "## Ensemble Toolkit: Installation\n",
    "\n",
    "EnTK dependencies:"
   ]
  },
  {
   "cell_type": "markdown",
   "metadata": {
    "slideshow": {
     "slide_type": "fragment"
    }
   },
   "source": [
    "* Python 2.7\n",
    "* RabbitMQ    (provides infrastructure for communication between internal components)\n",
    "* MongoDB     (used to store and retrieve operational data during execution of an application)"
   ]
  },
  {
   "cell_type": "markdown",
   "metadata": {
    "slideshow": {
     "slide_type": "fragment"
    }
   },
   "source": [
    "Installation only required on local machine and not on remote computational infrastructure."
   ]
  },
  {
   "cell_type": "markdown",
   "metadata": {
    "slideshow": {
     "slide_type": "subslide"
    }
   },
   "source": [
    "## Ensemble Toolkit: \"Hello World!\"\n",
    "* How to construct an ensemble application.\n",
    "* Single pipeline, stage, and task.\n",
    "* Running on local machine."
   ]
  },
  {
   "cell_type": "markdown",
   "metadata": {
    "slideshow": {
     "slide_type": "subslide"
    }
   },
   "source": [
    "**Importing components from the EnTK module**\n",
    "```python\n",
    "from radical.entk import Pipeline, Stage, Task, AppManager\n",
    "```"
   ]
  },
  {
   "cell_type": "markdown",
   "metadata": {
    "slideshow": {
     "slide_type": "fragment"
    }
   },
   "source": [
    "**Creating the Workflow**\n",
    "```python\n",
    "# Create a Pipeline object\n",
    "p = Pipeline()\n",
    "\n",
    "# Create a Stage object\n",
    "s = Stage()\n",
    "\n",
    "# Create a Task object\n",
    "t = Task()\n",
    "t.name = 'my-first-task'        # Assign a name to the task\n",
    "t.executable = ['/bin/echo']    # Assign executable to the task\n",
    "t.arguments = ['Hello World!']  # Assign arguments for the task executable\n",
    "\n",
    "# Add Task to the Stage\n",
    "s.add_tasks(t)\n",
    "\n",
    "# Add Stage to the Pipeline\n",
    "p.add_stages(s)\n",
    "```"
   ]
  },
  {
   "cell_type": "markdown",
   "metadata": {
    "slideshow": {
     "slide_type": "subslide"
    }
   },
   "source": [
    "**Creating the Application Manager**\n",
    "```python\n",
    "# Create Application Manager\n",
    "appman = AppManager(hostname=hostname, port=port)\n",
    "\n",
    "# Create a dictionary describe four mandatory keys:\n",
    "# resource, walltime, and cpus\n",
    "# resource is 'local.localhost' to execute locally\n",
    "res_dict = {\n",
    "\n",
    "    'resource': 'local.localhost',\n",
    "    'walltime': 10,\n",
    "    'cpus': 1\n",
    "}\n",
    "\n",
    "# Assign resource request description to the Application Manager\n",
    "appman.resource_desc = res_dict\n",
    "\n",
    "# Assign the workflow as a set or list of Pipelines to the Application Manager\n",
    "# Note: The list order is not guaranteed to be preserved\n",
    "appman.workflow = set([p])\n",
    "\n",
    "# Run the Application Manager\n",
    "appman.run()\n",
    "```"
   ]
  },
  {
   "cell_type": "markdown",
   "metadata": {
    "slideshow": {
     "slide_type": "subslide"
    }
   },
   "source": [
    "## Ensemble Toolkit: Changing Target Machine"
   ]
  },
  {
   "cell_type": "markdown",
   "metadata": {},
   "source": [
    "EnTK allows us to submit tasks on a remote machine from our local machine. It requires passwordless ssh access and the remote system needs to support Radical Pilot and EnTK."
   ]
  },
  {
   "cell_type": "markdown",
   "metadata": {
    "slideshow": {
     "slide_type": "fragment"
    }
   },
   "source": [
    "<img src=\"https://raw.githubusercontent.com/radical-cybertools/radical.entk/master/docs/figures/hosts_and_ports.png\" alt=\"hosts_and_ports\" width=\"500\"/>"
   ]
  },
  {
   "cell_type": "markdown",
   "metadata": {
    "slideshow": {
     "slide_type": "subslide"
    }
   },
   "source": [
    "Once passwordless access has been set up, switching from one target machine to another simply requires that we modify the resource dictionary in our code:"
   ]
  },
  {
   "cell_type": "markdown",
   "metadata": {
    "slideshow": {
     "slide_type": "fragment"
    }
   },
   "source": [
    "**Localhost**\n",
    "```python\n",
    "res_dict = {\n",
    "\n",
    "    'resource': 'local.localhost',\n",
    "    'walltime': 10,\n",
    "    'cpus': 1\n",
    "}\n",
    "```\n",
    "\n",
    "**XSEDE Bridges Cluster**\n",
    "```python\n",
    "res_dict = {\n",
    "\n",
    "    'resource': 'xsede.comet',\n",
    "    'walltime': 10,\n",
    "    'cpus': 1,\n",
    "    'schema': 'ssh'\n",
    "\n",
    "}\n",
    "```"
   ]
  },
  {
   "cell_type": "markdown",
   "metadata": {
    "slideshow": {
     "slide_type": "subslide"
    }
   },
   "source": [
    "## Ensemble Toolkit: SPECFEM Application"
   ]
  },
  {
   "cell_type": "markdown",
   "metadata": {
    "slideshow": {
     "slide_type": "-"
    }
   },
   "source": [
    "Global Inversion Project:\n",
    "* Demands high amount of computational resources.\n",
    "* Complex workflow with several stages and different requirements.\n",
    "* Needs to run at extreme scale."
   ]
  },
  {
   "cell_type": "markdown",
   "metadata": {
    "slideshow": {
     "slide_type": "fragment"
    }
   },
   "source": [
    "Increased scaling requires a more automated approach to management and execution of the workflow, which is what EnTK provides."
   ]
  },
  {
   "cell_type": "markdown",
   "metadata": {
    "slideshow": {
     "slide_type": "subslide"
    }
   },
   "source": [
    "## Ensemble Toolkit: SPECFEM Application"
   ]
  },
  {
   "cell_type": "markdown",
   "metadata": {},
   "source": [
    "<img src=\"images/specfem_pst.png\" alt=\"specfem_pst\" width=\"500\"/>"
   ]
  },
  {
   "cell_type": "markdown",
   "metadata": {
    "slideshow": {
     "slide_type": "subslide"
    }
   },
   "source": [
    "**Creating the Workflow (Mesher)**\n",
    "```python\n",
    "p = Pipeline()\n",
    "\n",
    "# First stage to perform one meshfem task\n",
    "meshfem_stage = Stage()\n",
    "    \n",
    "t1 = Task()\n",
    "    \n",
    "t1.pre_exec = [ # Modules to be loaded\n",
    "                'module load ...',\n",
    "                'module load ...',\n",
    "                # Untar the input data\n",
    "                'tar xf meshfem_data.tar',\n",
    "                # Preprocessing\n",
    "                'mkdir DATABASES_MPI',\n",
    "                'mkdir OUTPUT_FILES',\n",
    "                'cp DATA/Par_file OUTPUT_FILES/',\n",
    "                'cp DATA/CMTSOLUTION OUTPUT_FILES/',\n",
    "                'cp DATA/STATIONS OUTPUT_FILES/',\n",
    "                \n",
    "        ]\n",
    "t1.executable = ['./bin/xmeshfem3D']\n",
    "t1.cpu_reqs = {'processes': 384, 'process_type': 'MPI',\n",
    "               'threads_per_process': 1, 'thread_type': 'OpenMP'}\n",
    "\n",
    "meshfem_stage.add_tasks(t1)\n",
    "\n",
    "p.add_stages(meshfem_stage)\n",
    "```"
   ]
  },
  {
   "cell_type": "markdown",
   "metadata": {
    "slideshow": {
     "slide_type": "subslide"
    }
   },
   "source": [
    "**Creating the Workflow (Solver)**\n",
    "```python\n",
    "# Second stage to perform multiple specfem tasks\n",
    "specfem_stage = Stage()\n",
    "\n",
    "events = [ 'C201303130312A', 'C200904210526A', 'C200809291519A',\n",
    "           'C201404240310A', 'C201309251642A', 'C201004112208A', ]\n",
    "\n",
    "for event in events:\n",
    "\n",
    "    t = Task()\n",
    "    t.pre_exec = [  # Modules to be loaded\n",
    "                    'module load ...',\n",
    "                    'module load ...',\n",
    "                    # Untar the specfem input data\n",
    "                    'tar xf specfem_data_event_%s.tar'%event,\n",
    "                    # Link to common DATABASES_MPI containing mesh files\n",
    "                    'ln -s /scratch/DATABASES_MPI DATABASES_MPI'\n",
    "\n",
    "                    ]\n",
    "    t.executable = ['./bin/xspecfem3D']\n",
    "    t.cpu_reqs = {'processes': 0, 'process_type': 'MPI',\n",
    "                  'threads_per_process': 0, 'thread_type': 'OpenMP'}\n",
    "    t.gpu_reqs = {'processes': 384, 'process_type': 'MPI',\n",
    "                  'threads_per_process': 1, 'thread_type': 'OpenMP'}\n",
    "    t.copy_input_data = ['/scratch/specfem_data_event_%s.tar'%event]\n",
    "                            ]\n",
    "    specfem_stage.add_tasks(t)\n",
    "\n",
    "p.add_stages(specfem_stage)\n",
    "```"
   ]
  },
  {
   "cell_type": "markdown",
   "metadata": {
    "slideshow": {
     "slide_type": "subslide"
    }
   },
   "source": [
    "**Creating the Application Manager**\n",
    "```python\n",
    "res_dict = {\n",
    "              'resource': 'ornl.titan_aprun',\n",
    "              'walltime': 8*num_events,\n",
    "              'cpus': 384,\n",
    "              'gpus':  384,\n",
    "              'project': 'GEO111',\n",
    "              'schema': 'local'\n",
    "           }\n",
    "if num_events<=16:\n",
    "    res_dict['queue'] = 'debug'\n",
    "else:\n",
    "    res_dict['queue'] = 'batch'\n",
    "    \n",
    "# Create Application Manager\n",
    "appman = AppManager(hostname=hostname, port=port, resubmit_failed=False)\n",
    "\n",
    "# Assign resource request description to the Application Manager\n",
    "appman.resource_desc = res_dict\n",
    "\n",
    "# Assign the workflow as a set or list of Pipelines to the Application Manager\n",
    "appman.workflow = set([p])\n",
    "\n",
    "# Run the Application Manager\n",
    "appman.run()        \n",
    "```"
   ]
  },
  {
   "cell_type": "markdown",
   "metadata": {
    "slideshow": {
     "slide_type": "subslide"
    }
   },
   "source": [
    "## Ensemble Toolkit: SPECFEM Application"
   ]
  },
  {
   "cell_type": "markdown",
   "metadata": {
    "slideshow": {
     "slide_type": "-"
    }
   },
   "source": [
    "<img src=\"images/specfem_tasks.png\" alt=\"specfem_pst\" width=\"800\"/>"
   ]
  },
  {
   "cell_type": "markdown",
   "metadata": {
    "slideshow": {
     "slide_type": "fragment"
    }
   },
   "source": [
    "On Titan: Forward simulations are best executed with $2^4$ concurrent tasks."
   ]
  },
  {
   "cell_type": "markdown",
   "metadata": {
    "slideshow": {
     "slide_type": "subslide"
    }
   },
   "source": [
    "## Ensemble Toolkit: Going Forward\n",
    "\n",
    "* In general:\n",
    "  * Port to Python 3\n",
    "  * Release of milestone 1.0 version\n",
    "* More specifically:\n",
    "  * Scaling tests on Summit\n",
    "  * Implement full global inversion pipeline in EnTK."
   ]
  }
 ],
 "metadata": {
  "kernelspec": {
   "display_name": "Python 3",
   "language": "python",
   "name": "python3"
  },
  "language_info": {
   "codemirror_mode": {
    "name": "ipython",
    "version": 3
   },
   "file_extension": ".py",
   "mimetype": "text/x-python",
   "name": "python",
   "nbconvert_exporter": "python",
   "pygments_lexer": "ipython3",
   "version": "3.7.2"
  }
 },
 "nbformat": 4,
 "nbformat_minor": 2
}
