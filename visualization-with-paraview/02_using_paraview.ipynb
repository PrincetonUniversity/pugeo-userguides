{
 "cells": [
  {
   "cell_type": "markdown",
   "metadata": {},
   "source": [
    "# 2: Using ParaView\n",
    "\n",
    "At this point you should be able to launch ParaView using one of the options that was presented in the previous notebook. Now we are at a stage where we can start using ParaView. However, ParaView comes with a lot of functionalities which can be daunting for a complete beginner. Luckily, there is an excellent, official ParaView tutorial available which can be found on this [page](https://www.paraview.org/Wiki/The_ParaView_Tutorial).\n",
    "\n",
    "At the time of writing this, the latest ParaView version v5.6 and its tutorial can be found by following this [link](https://www.paraview.org/Wiki/images/b/bc/ParaViewTutorial56.pdf)."
   ]
  }
 ],
 "metadata": {
  "kernelspec": {
   "display_name": "Python 3",
   "language": "python",
   "name": "python3"
  },
  "language_info": {
   "codemirror_mode": {
    "name": "ipython",
    "version": 3
   },
   "file_extension": ".py",
   "mimetype": "text/x-python",
   "name": "python",
   "nbconvert_exporter": "python",
   "pygments_lexer": "ipython3",
   "version": "3.7.2"
  }
 },
 "nbformat": 4,
 "nbformat_minor": 2
}
