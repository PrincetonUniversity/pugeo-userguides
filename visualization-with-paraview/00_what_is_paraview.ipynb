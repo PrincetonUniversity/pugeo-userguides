{
 "cells": [
  {
   "cell_type": "markdown",
   "metadata": {},
   "source": [
    "# 0: What is ParaView?\n",
    "\n",
    "ParaView is an open-source application for interactive, scientific visualization. It was designed to work with extremely large datasets and can be used with petascale datasets on supercomputers, or smaller datasets on personal laptops.\n",
    "\n",
    "From the [official website](https://www.paraview.org/overview/):\n",
    "\n",
    "> ParaView is an open-source, multi-platform data analysis and visualization application. ParaView users can quickly build\n",
    "> visualizations to analyze their data using qualitative and quantitative techniques. The data exploration can be done\n",
    "> interactively in 3D or programmatically using ParaView’s batch processing capabilities. ParaView was developed to analyze\n",
    "> extremely large datasets using distributed memory computing resources. It can be run on supercomputers to analyze\n",
    "> datasets of petascale as well as on laptops for smaller data. ParaView is an application framework as well as a turn-key\n",
    "> application.\n",
    "\n",
    "<img src=\"https://www.paraview.org/wp-content/uploads/2018/02/ParaView_Logo.svg\" alt=\"logo\" width=\"640\"/>\n",
    "\n",
    "One such application that includes analyzing massive amounts of data in 3D is seismic wave propagation. Whether the simulations are run on a regional or global scale, it is often necessary to produce snapshots and movies to understand what is going on. Instead of writing custom code that tries to deal with the complexities of dealing with massive data and how to best represent it in three dimensions, we use ParaView, which was designed and implemented by professionals with this exact purpose in mind.\n",
    "\n",
    "ParaView supports a whole range of datatypes. SPECFEM3D and SPECFEM3D GLOBE can generate `.vtk` files for 3D visualization of model parameters. They can also generate a series of snapshots in a format that can be opened and played as a movie in ParaView. These are essential features that allow us to visualize and present our research to the scientfic community at large.\n",
    "\n",
    "In the next notebook we will look at how to get started with ParaView, wether you want to use it with small datasets on your personal laptop or large data on the Princeton University hardware."
   ]
  }
 ],
 "metadata": {
  "kernelspec": {
   "display_name": "Python 3",
   "language": "python",
   "name": "python3"
  },
  "language_info": {
   "codemirror_mode": {
    "name": "ipython",
    "version": 3
   },
   "file_extension": ".py",
   "mimetype": "text/x-python",
   "name": "python",
   "nbconvert_exporter": "python",
   "pygments_lexer": "ipython3",
   "version": "3.7.2"
  }
 },
 "nbformat": 4,
 "nbformat_minor": 2
}
