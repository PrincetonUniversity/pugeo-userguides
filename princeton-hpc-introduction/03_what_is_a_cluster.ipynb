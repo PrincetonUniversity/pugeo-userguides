{
 "cells": [
  {
   "cell_type": "markdown",
   "metadata": {},
   "source": [
    "# 3: What is a Cluster?\n",
    "\n",
    "Now that we have chosen an appropriate system to work with and know how to access it from inside- and outside campus, we should take a step back and understand what a computer cluster actually is before we start using it.\n",
    "\n",
    "A computer cluster is a collection of inter-connected computers that work together to perform computationally expensive tasks. Each computer in a cluster is reffered to as a \"node\", and we commonly talk about two types of nodes: head-nodes and compute-nodes.\n",
    "\n",
    "**Head-Nodes**\n",
    "The head-node is the computer where we land when we ssh to log in to the cluster. This is where we edit scripts, compile code, and submit jobs to the scheduler. The head-nodes are shared with other users and jobs should not be run on the head-nodes themselves.\n",
    "\n",
    "**Compute-Nodes**\n",
    "The compute-nodes are the computers where jobs should be run. In order to run jobs on the compute-nodes we must go through the job scheduler. By submitting jobs to the job scheduler, the jobs will automatically be run on the compute-nodes once the requested resources are available. The Princeton clusters use SLURM as their scheduling program and we will get back to this in a later notebook.\n",
    "\n",
    "![](figures/cluster.jpg)\n",
    "\n",
    "The above figure shows how the client machine, head-node, and compute-nodes are related in a generic cluster. From the client machine we can log in to the cluster which takes us to the head-node. From the head-node we prepare our jobs and then submit them to the job scheduler which automatically runs the jobs on the compute-nodes once the requested resources are available."
   ]
  }
 ],
 "metadata": {
  "kernelspec": {
   "display_name": "Python 3",
   "language": "python",
   "name": "python3"
  },
  "language_info": {
   "codemirror_mode": {
    "name": "ipython",
    "version": 3
   },
   "file_extension": ".py",
   "mimetype": "text/x-python",
   "name": "python",
   "nbconvert_exporter": "python",
   "pygments_lexer": "ipython3",
   "version": "3.7.2"
  }
 },
 "nbformat": 4,
 "nbformat_minor": 2
}
